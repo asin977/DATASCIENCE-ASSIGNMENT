{
  "nbformat": 4,
  "nbformat_minor": 0,
  "metadata": {
    "colab": {
      "provenance": [],
      "mount_file_id": "1TgiDJP5VPMANfOt03QVHgZ68LHmqTGCM",
      "authorship_tag": "ABX9TyPjIbk50eVf4eR3+frsf5u7",
      "include_colab_link": true
    },
    "kernelspec": {
      "name": "python3",
      "display_name": "Python 3"
    },
    "language_info": {
      "name": "python"
    }
  },
  "cells": [
    {
      "cell_type": "markdown",
      "metadata": {
        "id": "view-in-github",
        "colab_type": "text"
      },
      "source": [
        "<a href=\"https://colab.research.google.com/github/asin977/DATASCIENCE-ASSIGNMENT/blob/main/Regression_assignmentipynb.ipynb\" target=\"_parent\"><img src=\"https://colab.research.google.com/assets/colab-badge.svg\" alt=\"Open In Colab\"/></a>"
      ]
    },
    {
      "cell_type": "code",
      "execution_count": 2,
      "metadata": {
        "colab": {
          "base_uri": "https://localhost:8080/"
        },
        "id": "Jr3CrO6yvYyH",
        "outputId": "3072ab49-d5c7-47f9-9c15-c2c4035af750"
      },
      "outputs": [
        {
          "output_type": "stream",
          "name": "stdout",
          "text": [
            "     Year   Price\n",
            "0    2018  465000\n",
            "1    2019  755000\n",
            "2    2019  700000\n",
            "3    2018  465000\n",
            "4    2018  465000\n",
            "..    ...     ...\n",
            "107  2016  375000\n",
            "108  2014  300000\n",
            "109  2015  425000\n",
            "110  2016  420000\n",
            "111  2015  425000\n",
            "\n",
            "[112 rows x 2 columns]\n"
          ]
        }
      ],
      "source": [
        "import pandas as pd\n",
        "\n",
        "\n",
        "file_path = \"/car_age_price.csv\"\n",
        "df = pd.read_csv(file_path)\n",
        "print(df)\n",
        "\n"
      ]
    },
    {
      "cell_type": "markdown",
      "source": [
        "The given dataset contains the price of a second-hand Hyundai grand i10 car\n",
        "with respect to year of making. Find the best linear relationship between year\n",
        "and price. Can you predict the possible price of a 2022 model second-hand\n",
        "grand i10?\n"
      ],
      "metadata": {
        "id": "_Mk9PkuSx4Sr"
      }
    },
    {
      "cell_type": "code",
      "source": [
        "# Import necessary libraries\n",
        "import pandas as pd\n",
        "import numpy as np\n",
        "import io\n",
        "import matplotlib.pyplot as plt\n",
        "import seaborn as sns\n",
        "from sklearn.model_selection import train_test_split\n",
        "from sklearn.linear_model import LinearRegression, Lasso\n",
        "from sklearn.metrics import mean_squared_error, r2_score\n",
        "from google.colab import files\n",
        "\n",
        "\n",
        "\n",
        "print(\"\\nDataset Head:\\n\", df.head())\n",
        "\n",
        "\n",
        "print(\"\\nMissing Values:\\n\", df.isnull().sum())\n",
        "\n",
        "\n",
        "df['Car_Age'] = 2024 - df['Year']\n",
        "\n",
        "\n"
      ],
      "metadata": {
        "colab": {
          "base_uri": "https://localhost:8080/"
        },
        "id": "7cr4RrRZxtV4",
        "outputId": "6d92ae1d-218b-4fd0-8ff9-0e38b789d359"
      },
      "execution_count": 3,
      "outputs": [
        {
          "output_type": "stream",
          "name": "stdout",
          "text": [
            "\n",
            "Dataset Head:\n",
            "    Year   Price\n",
            "0  2018  465000\n",
            "1  2019  755000\n",
            "2  2019  700000\n",
            "3  2018  465000\n",
            "4  2018  465000\n",
            "\n",
            "Missing Values:\n",
            " Year     0\n",
            "Price    0\n",
            "dtype: int64\n"
          ]
        }
      ]
    },
    {
      "cell_type": "markdown",
      "source": [
        "Please learn about lasso regression and create a model along with linear\n",
        "regression. Find out which one is performing better."
      ],
      "metadata": {
        "id": "sAUQj72ZyVkL"
      }
    },
    {
      "cell_type": "markdown",
      "source": [],
      "metadata": {
        "id": "kVTKrSkhyl0K"
      }
    },
    {
      "cell_type": "code",
      "source": [
        "\n",
        "import pandas as pd\n",
        "import numpy as np\n",
        "import io\n",
        "import matplotlib.pyplot as plt\n",
        "import seaborn as sns\n",
        "from sklearn.model_selection import train_test_split\n",
        "from sklearn.linear_model import LinearRegression, Lasso\n",
        "from sklearn.metrics import mean_squared_error, r2_score\n",
        "from google.colab import files\n",
        "\n",
        "\n",
        "\n",
        "file_path = \"/car_age_price.csv\"\n",
        "df = pd.read_csv(file_path)\n",
        "print(df)\n",
        "\n",
        "\n",
        "\n",
        "\n",
        "\n",
        "print(\"\\nDataset Head:\\n\", df.head())\n",
        "\n",
        "\n",
        "print(\"\\nMissing Values:\\n\", df.isnull().sum())\n",
        "\n",
        "\n",
        "df['Car_Age'] = 2024 - df['Year']\n",
        "\n",
        "\n",
        "X = df[['Car_Age']]\n",
        "y = df['Price']\n",
        "\n",
        "\n",
        "X_train, X_test, y_train, y_test = train_test_split(X, y, test_size=0.2, random_state=42)\n",
        "\n",
        "\n",
        "lin_reg = LinearRegression()\n",
        "lin_reg.fit(X_train, y_train)\n",
        "y_pred_lin = lin_reg.predict(X_test)\n",
        "\n",
        "\n",
        "lasso_reg = Lasso(alpha=1.0)\n",
        "lasso_reg.fit(X_train, y_train)\n",
        "y_pred_lasso = lasso_reg.predict(X_test)\n",
        "\n",
        "\n",
        "lin_mse = mean_squared_error(y_test, y_pred_lin)\n",
        "lin_r2 = r2_score(y_test, y_pred_lin)\n",
        "\n",
        "lasso_mse = mean_squared_error(y_test, y_pred_lasso)\n",
        "lasso_r2 = r2_score(y_test, y_pred_lasso)\n",
        "\n",
        "print(\"\\n🔹 Model Performance:\")\n",
        "print(f\"Linear Regression -> MSE: {lin_mse:.2f}, R²: {lin_r2:.4f}\")\n",
        "print(f\"Lasso Regression  -> MSE: {lasso_mse:.2f}, R²: {lasso_r2:.4f}\")\n",
        "\n",
        "\n",
        "car_age_2022 = [[2024 - 2022]]\n",
        "\n",
        "lin_pred_2022 = lin_reg.predict(car_age_2022)[0]\n",
        "lasso_pred_2022 = lasso_reg.predict(car_age_2022)[0]\n",
        "\n",
        "print(f\"\\n🔹 Predicted Price for 2022 Model:\")\n",
        "print(f\"Linear Regression: ₹{lin_pred_2022:.2f}\")\n",
        "print(f\"Lasso Regression:  ₹{lasso_pred_2022:.2f}\")\n",
        "\n",
        "\n",
        "plt.figure(figsize=(8, 5))\n",
        "plt.scatter(X, y, color='blue', label='Actual Prices')\n",
        "plt.plot(X_test, y_pred_lin, color='red', label='Linear Regression')\n",
        "plt.plot(X_test, y_pred_lasso, color='green', linestyle='dashed', label='Lasso Regression')\n",
        "plt.xlabel(\"Car Age (years)\")\n",
        "plt.ylabel(\"Price (₹)\")\n",
        "plt.legend()\n",
        "plt.title(\"Linear vs Lasso Regression\")\n",
        "plt.show()\n"
      ],
      "metadata": {
        "colab": {
          "base_uri": "https://localhost:8080/",
          "height": 1000
        },
        "id": "LREguaDL0wme",
        "outputId": "38bcc4f4-c1b3-4a1a-a40f-32647d8bae12"
      },
      "execution_count": 4,
      "outputs": [
        {
          "output_type": "stream",
          "name": "stdout",
          "text": [
            "     Year   Price\n",
            "0    2018  465000\n",
            "1    2019  755000\n",
            "2    2019  700000\n",
            "3    2018  465000\n",
            "4    2018  465000\n",
            "..    ...     ...\n",
            "107  2016  375000\n",
            "108  2014  300000\n",
            "109  2015  425000\n",
            "110  2016  420000\n",
            "111  2015  425000\n",
            "\n",
            "[112 rows x 2 columns]\n",
            "\n",
            "Dataset Head:\n",
            "    Year   Price\n",
            "0  2018  465000\n",
            "1  2019  755000\n",
            "2  2019  700000\n",
            "3  2018  465000\n",
            "4  2018  465000\n",
            "\n",
            "Missing Values:\n",
            " Year     0\n",
            "Price    0\n",
            "dtype: int64\n",
            "\n",
            "🔹 Model Performance:\n",
            "Linear Regression -> MSE: 4326906256.83, R²: 0.3676\n",
            "Lasso Regression  -> MSE: 4326859771.02, R²: 0.3676\n",
            "\n",
            "🔹 Predicted Price for 2022 Model:\n",
            "Linear Regression: ₹743601.62\n",
            "Lasso Regression:  ₹743599.37\n"
          ]
        },
        {
          "output_type": "stream",
          "name": "stderr",
          "text": [
            "/usr/local/lib/python3.11/dist-packages/sklearn/utils/validation.py:2739: UserWarning: X does not have valid feature names, but LinearRegression was fitted with feature names\n",
            "  warnings.warn(\n",
            "/usr/local/lib/python3.11/dist-packages/sklearn/utils/validation.py:2739: UserWarning: X does not have valid feature names, but Lasso was fitted with feature names\n",
            "  warnings.warn(\n"
          ]
        },
        {
          "output_type": "display_data",
          "data": {
            "text/plain": [
              "<Figure size 800x500 with 1 Axes>"
            ],
            "image/png": "[encoded data removed]"
          },
          "metadata": {}
        }
      ]
    },
    {
      "cell_type": "code",
      "source": [],
      "metadata": {
        "id": "mf7bkpjt0wYi"
      },
      "execution_count": null,
      "outputs": []
    }
  ]
}
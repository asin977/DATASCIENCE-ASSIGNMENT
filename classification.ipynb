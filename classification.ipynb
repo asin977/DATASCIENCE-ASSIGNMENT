{
  "nbformat": 4,
  "nbformat_minor": 0,
  "metadata": {
    "colab": {
      "provenance": [],
      "authorship_tag": "ABX9TyN7x4bS0JE9z1fhTQP5G5Z/",
      "include_colab_link": true
    },
    "kernelspec": {
      "name": "python3",
      "display_name": "Python 3"
    },
    "language_info": {
      "name": "python"
    }
  },
  "cells": [
    {
      "cell_type": "markdown",
      "metadata": {
        "id": "view-in-github",
        "colab_type": "text"
      },
      "source": [
        "<a href=\"https://colab.research.google.com/github/asin977/DATASCIENCE-ASSIGNMENT/blob/main/classification.ipynb\" target=\"_parent\"><img src=\"https://colab.research.google.com/assets/colab-badge.svg\" alt=\"Open In Colab\"/></a>"
      ]
    },
    {
      "cell_type": "markdown",
      "source": [
        "Read the dataset to python environment"
      ],
      "metadata": {
        "id": "kfhyxD8zUWJK"
      }
    },
    {
      "cell_type": "code",
      "execution_count": null,
      "metadata": {
        "colab": {
          "base_uri": "https://localhost:8080/"
        },
        "id": "Gn3V8O2H2I3z",
        "outputId": "9c082fd4-96d2-4e02-ba36-89ca7d769dc8"
      },
      "outputs": [
        {
          "output_type": "stream",
          "name": "stdout",
          "text": [
            "      SL   SW   PL   PW  Classification\n",
            "0    5.1  3.5  1.4  0.2     Iris-setosa\n",
            "1    4.9  3.0  1.4  0.2     Iris-setosa\n",
            "2    NaN  3.2  1.3  0.2     Iris-setosa\n",
            "3    4.6  3.1  1.5  0.2     Iris-setosa\n",
            "4    5.0  3.6  1.4  0.2     Iris-setosa\n",
            "..   ...  ...  ...  ...             ...\n",
            "145  6.7  3.0  5.2  2.3  Iris-virginica\n",
            "146  6.3  2.5  5.0  1.9  Iris-virginica\n",
            "147  6.5  3.0  NaN  2.0  Iris-virginica\n",
            "148  6.2  3.4  5.4  2.3  Iris-virginica\n",
            "149  5.9  3.0  5.1  1.8  Iris-virginica\n",
            "\n",
            "[150 rows x 5 columns]\n"
          ]
        }
      ],
      "source": [
        "import pandas as pd\n",
        "\n",
        "file_path = \"/content/iris.xls\"\n",
        "\n",
        "\n",
        "df = pd.read_excel(file_path)\n",
        "\n",
        "\n",
        "print(df)\n"
      ]
    },
    {
      "cell_type": "markdown",
      "source": [],
      "metadata": {
        "id": "OeIm40EYS1Vp"
      }
    },
    {
      "cell_type": "code",
      "source": [
        "import pandas as pd\n",
        "import numpy as np\n",
        "file_path=\"/content/iris.xls\"\n",
        "\n",
        "df = pd.read_excel(file_path)\n",
        "\n",
        "\n",
        "\n",
        "print(df.head())\n",
        "\n",
        "# 2. Data Pre-processing\n",
        "\n",
        "from sklearn.impute import SimpleImputer\n",
        "from sklearn.preprocessing import LabelEncoder, StandardScaler\n",
        "\n",
        "#  Impute missing values in numeric columns with the mean\n",
        "numeric_features = ['SL', 'SW', 'PL', 'PW']\n",
        "imputer = SimpleImputer(strategy='mean')\n",
        "df[numeric_features] = imputer.fit_transform(df[numeric_features])\n",
        "\n",
        "#  Encode the target variable (Classification)\n",
        "le = LabelEncoder()\n",
        "df['Classification'] = le.fit_transform(df['Classification'])\n",
        "\n",
        "\n",
        "X = df[numeric_features]\n",
        "y = df['Classification']\n",
        "\n",
        "#Standardizing\n",
        "scaler = StandardScaler()\n",
        "X_scaled = scaler.fit_transform(X)\n",
        "\n",
        "# 3. Model Training & Evaluation\n",
        "\n",
        "from sklearn.model_selection import cross_val_score\n",
        "from sklearn.linear_model import LogisticRegression\n",
        "from sklearn.neighbors import KNeighborsClassifier\n",
        "from sklearn.tree import DecisionTreeClassifier\n",
        "from sklearn.ensemble import RandomForestClassifier\n",
        "from sklearn.svm import SVC\n",
        "from sklearn.naive_bayes import GaussianNB\n",
        "\n",
        "\n",
        "models = {\n",
        "    \"Logistic Regression\": LogisticRegression(max_iter=200),\n",
        "    \"KNN\": KNeighborsClassifier(),\n",
        "    \"Decision Tree\": DecisionTreeClassifier(),\n",
        "    \"Random Forest\": RandomForestClassifier(n_estimators=100),\n",
        "    \"SVM\": SVC(),\n",
        "    \"Gaussian NB\": GaussianNB()\n",
        "}\n",
        "\n",
        "results = {}\n",
        "\n",
        "print(\"\\nClassifier Performance (10-fold Cross-Validation):\")\n",
        "for name, model in models.items():\n",
        "\n",
        "    scores = cross_val_score(model, X_scaled, y, cv=10, scoring='accuracy')\n",
        "    results[name] = scores.mean()\n",
        "    print(f\"{name}: {scores.mean():.3f}\")\n",
        "\n",
        "#best model\n",
        "best_model_name = max(results, key=results.get)\n",
        "print(f\"\\nBest Model: {best_model_name} with an accuracy of {results[best_model_name]:.3f}\")\n"
      ],
      "metadata": {
        "colab": {
          "base_uri": "https://localhost:8080/"
        },
        "id": "d8jTI-fCaXzn",
        "outputId": "fa89e143-31c1-4c60-c1d4-d5ba3acbab31"
      },
      "execution_count": 8,
      "outputs": [
        {
          "output_type": "stream",
          "name": "stdout",
          "text": [
            "    SL   SW   PL   PW Classification\n",
            "0  5.1  3.5  1.4  0.2    Iris-setosa\n",
            "1  4.9  3.0  1.4  0.2    Iris-setosa\n",
            "2  NaN  3.2  1.3  0.2    Iris-setosa\n",
            "3  4.6  3.1  1.5  0.2    Iris-setosa\n",
            "4  5.0  3.6  1.4  0.2    Iris-setosa\n",
            "\n",
            "Classifier Performance (10-fold Cross-Validation):\n",
            "Logistic Regression: 0.953\n",
            "KNN: 0.973\n",
            "Decision Tree: 0.947\n",
            "Random Forest: 0.960\n",
            "SVM: 0.953\n",
            "Gaussian NB: 0.953\n",
            "\n",
            "Best Model: KNN with an accuracy of 0.973\n"
          ]
        }
      ]
    },
    {
      "cell_type": "code",
      "source": [],
      "metadata": {
        "id": "gwNWwx0Paqzv"
      },
      "execution_count": null,
      "outputs": []
    }
  ]
}
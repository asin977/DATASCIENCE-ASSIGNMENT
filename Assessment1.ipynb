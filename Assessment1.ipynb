{
  "nbformat": 4,
  "nbformat_minor": 0,
  "metadata": {
    "colab": {
      "provenance": [],
      "authorship_tag": "ABX9TyPXpgqwiWkdwGm/prTYyqQH",
      "include_colab_link": true
    },
    "kernelspec": {
      "name": "python3",
      "display_name": "Python 3"
    },
    "language_info": {
      "name": "python"
    }
  },
  "cells": [
    {
      "cell_type": "markdown",
      "metadata": {
        "id": "view-in-github",
        "colab_type": "text"
      },
      "source": [
        "<a href=\"https://colab.research.google.com/github/asin977/DATASCIENCE-ASSIGNMENT/blob/main/Assessment1.ipynb\" target=\"_parent\"><img src=\"https://colab.research.google.com/assets/colab-badge.svg\" alt=\"Open In Colab\"/></a>"
      ]
    },
    {
      "cell_type": "code",
      "source": [
        "Consider the following Python dictionary `data` and Python list `labels`:\n",
        "\n",
        "``` python\n",
        "data = {'animal': ['cat', 'cat', 'snake', 'dog', 'dog', 'cat', 'snake', 'cat', 'dog', 'dog'],\n",
        "        'age': [2.5, 3, 0.5, np.nan, 5, 2, 4.5, np.nan, 7, 3],\n",
        "        'visits': [1, 3, 2, 3, 2, 3, 1, 1, 2, 1],\n",
        "        'priority': ['yes', 'yes', 'no', 'yes', 'no', 'no', 'no', 'yes', 'no', 'no']}\n",
        "\n",
        "labels = ['a', 'b', 'c', 'd', 'e', 'f', 'g', 'h', 'i', 'j']\n",
        "```\n",
        "\n",
        "**1.** Create a DataFrame `df` from this dictionary `data` which has the index `labels`."
      ],
      "metadata": {
        "id": "LeB7qVZ0PRde"
      },
      "execution_count": null,
      "outputs": []
    },
    {
      "cell_type": "code",
      "source": [
        "import pandas as pd\n",
        "import numpy as np\n",
        "\n",
        "\n",
        "data = {\n",
        "    'animal': ['cat', 'cat', 'snake', 'dog', 'dog', 'cat', 'snake', 'cat', 'dog', 'dog'],\n",
        "    'age': [2.5, 3, 0.5, np.nan, 5, 2, 4.5, np.nan, 7, 3],\n",
        "    'visits': [1, 3, 2, 3, 2, 3, 1, 1, 2, 1],\n",
        "    'priority': ['yes', 'yes', 'no', 'yes', 'no', 'no', 'no', 'yes', 'no', 'no']\n",
        "}\n",
        "\n",
        "labels = ['a', 'b', 'c', 'd', 'e', 'f', 'g', 'h', 'i', 'j']\n",
        "\n",
        "\n",
        "df = pd.DataFrame(data, index=labels)\n",
        "\n",
        "\n",
        "print(df)\n"
      ],
      "metadata": {
        "colab": {
          "base_uri": "https://localhost:8080/"
        },
        "id": "r74h8S9AQzHp",
        "outputId": "eb7b0b14-79ed-442d-d6fc-3c7f1728137c"
      },
      "execution_count": 6,
      "outputs": [
        {
          "output_type": "stream",
          "name": "stdout",
          "text": [
            "  animal  age  visits priority\n",
            "a    cat  2.5       1      yes\n",
            "b    cat  3.0       3      yes\n",
            "c  snake  0.5       2       no\n",
            "d    dog  NaN       3      yes\n",
            "e    dog  5.0       2       no\n",
            "f    cat  2.0       3       no\n",
            "g  snake  4.5       1       no\n",
            "h    cat  NaN       1      yes\n",
            "i    dog  7.0       2       no\n",
            "j    dog  3.0       1       no\n"
          ]
        }
      ]
    },
    {
      "cell_type": "markdown",
      "source": [
        "**2.** Display a summary of the basic information about this DataFrame and its data (*hint: there is a single method that can be called on the DataFrame*)."
      ],
      "metadata": {
        "id": "rLYjhpvERJoB"
      }
    },
    {
      "cell_type": "code",
      "source": [
        "\n",
        "df.info()\n"
      ],
      "metadata": {
        "colab": {
          "base_uri": "https://localhost:8080/"
        },
        "id": "bAIT1YrcQD1z",
        "outputId": "3586f716-d223-462d-d8b4-651fb3f4844b"
      },
      "execution_count": 7,
      "outputs": [
        {
          "output_type": "stream",
          "name": "stdout",
          "text": [
            "<class 'pandas.core.frame.DataFrame'>\n",
            "Index: 10 entries, a to j\n",
            "Data columns (total 4 columns):\n",
            " #   Column    Non-Null Count  Dtype  \n",
            "---  ------    --------------  -----  \n",
            " 0   animal    10 non-null     object \n",
            " 1   age       8 non-null      float64\n",
            " 2   visits    10 non-null     int64  \n",
            " 3   priority  10 non-null     object \n",
            "dtypes: float64(1), int64(1), object(2)\n",
            "memory usage: 400.0+ bytes\n"
          ]
        }
      ]
    },
    {
      "cell_type": "markdown",
      "source": [
        "**3.** Return the first 3 rows of the DataFrame `df`."
      ],
      "metadata": {
        "id": "3yoXpUhNSHUB"
      }
    },
    {
      "cell_type": "code",
      "source": [
        "first_three_rows = df.head(3)\n",
        "\n",
        "print(first_three_rows)"
      ],
      "metadata": {
        "colab": {
          "base_uri": "https://localhost:8080/"
        },
        "id": "fU9wcflDSaXH",
        "outputId": "11e69e6e-e4dd-4035-b223-ff78cb608ed6"
      },
      "execution_count": 8,
      "outputs": [
        {
          "output_type": "stream",
          "name": "stdout",
          "text": [
            "  animal  age  visits priority\n",
            "a    cat  2.5       1      yes\n",
            "b    cat  3.0       3      yes\n",
            "c  snake  0.5       2       no\n"
          ]
        }
      ]
    },
    {
      "cell_type": "code",
      "source": [],
      "metadata": {
        "id": "Xc1fSe49SmeH"
      },
      "execution_count": null,
      "outputs": []
    },
    {
      "cell_type": "markdown",
      "source": [
        "**4.** Display the 'animal' and 'age' columns from the DataFrame `df`"
      ],
      "metadata": {
        "id": "LBAU3tDESxSx"
      }
    },
    {
      "cell_type": "code",
      "source": [
        "animal_age_columns = df[['animal', 'age']]\n",
        "print(animal_age_columns)"
      ],
      "metadata": {
        "colab": {
          "base_uri": "https://localhost:8080/"
        },
        "id": "LZlE8Ap0S-zQ",
        "outputId": "31e7115c-6b56-4147-9fb0-61a6bc409143"
      },
      "execution_count": 9,
      "outputs": [
        {
          "output_type": "stream",
          "name": "stdout",
          "text": [
            "  animal  age\n",
            "a    cat  2.5\n",
            "b    cat  3.0\n",
            "c  snake  0.5\n",
            "d    dog  NaN\n",
            "e    dog  5.0\n",
            "f    cat  2.0\n",
            "g  snake  4.5\n",
            "h    cat  NaN\n",
            "i    dog  7.0\n",
            "j    dog  3.0\n"
          ]
        }
      ]
    },
    {
      "cell_type": "markdown",
      "source": [],
      "metadata": {
        "id": "lDt29N3fTj9v"
      }
    },
    {
      "cell_type": "markdown",
      "source": [
        "**5.** Display the data in rows `[3, 4, 8]` *and* in columns `['animal', 'age']'"
      ],
      "metadata": {
        "id": "YpmG9ssYT4mz"
      }
    },
    {
      "cell_type": "code",
      "source": [
        "selected_data = df.loc[['d', 'e', 'i'], ['animal', 'age']]\n",
        "print(selected_data)"
      ],
      "metadata": {
        "colab": {
          "base_uri": "https://localhost:8080/"
        },
        "id": "9lH4yG0VTHWJ",
        "outputId": "1ab82216-c4bf-4a16-d905-06d0b2f44c4d"
      },
      "execution_count": 10,
      "outputs": [
        {
          "output_type": "stream",
          "name": "stdout",
          "text": [
            "  animal  age\n",
            "d    dog  NaN\n",
            "e    dog  5.0\n",
            "i    dog  7.0\n"
          ]
        }
      ]
    },
    {
      "cell_type": "markdown",
      "source": [
        "**6.** Select only the rows where the number of visits is greater than 3."
      ],
      "metadata": {
        "id": "CGWWRiw8URqj"
      }
    },
    {
      "cell_type": "code",
      "source": [
        "\n",
        "visits_greater_than_3 = df[df['visits'] > 3]\n",
        "print(visits_greater_than_3)"
      ],
      "metadata": {
        "colab": {
          "base_uri": "https://localhost:8080/"
        },
        "id": "BpNztfx0UCxN",
        "outputId": "b1ef7887-db9d-4aad-a1c8-53283ebb5d08"
      },
      "execution_count": 11,
      "outputs": [
        {
          "output_type": "stream",
          "name": "stdout",
          "text": [
            "Empty DataFrame\n",
            "Columns: [animal, age, visits, priority]\n",
            "Index: []\n"
          ]
        }
      ]
    },
    {
      "cell_type": "markdown",
      "source": [
        "**7.** Select the rows where the age is missing, i.e. it is `NaN`."
      ],
      "metadata": {
        "id": "ToVpiQUdUlwC"
      }
    },
    {
      "cell_type": "code",
      "source": [
        "\n",
        "missing_age_rows = df[df['age'].isna()]\n",
        "print(missing_age_rows)"
      ],
      "metadata": {
        "colab": {
          "base_uri": "https://localhost:8080/"
        },
        "id": "JYKFFro8Um3S",
        "outputId": "904aacb5-4aa0-49b2-a94e-1bb73fef12a6"
      },
      "execution_count": 12,
      "outputs": [
        {
          "output_type": "stream",
          "name": "stdout",
          "text": [
            "  animal  age  visits priority\n",
            "d    dog  NaN       3      yes\n",
            "h    cat  NaN       1      yes\n"
          ]
        }
      ]
    },
    {
      "cell_type": "markdown",
      "source": [
        "**8.** Select the rows where the animal is a cat *and* the age is less than 3."
      ],
      "metadata": {
        "id": "iMDEO2xNU23D"
      }
    },
    {
      "cell_type": "code",
      "source": [
        "\n",
        "cat_and_age_less_than_3 = df[(df['animal'] == 'cat') & (df['age'] < 3)]\n",
        "print(cat_and_age_less_than_3)"
      ],
      "metadata": {
        "colab": {
          "base_uri": "https://localhost:8080/"
        },
        "id": "36M7d3GdU32y",
        "outputId": "8ab65454-4d34-4cdb-9a04-6ce40edb1874"
      },
      "execution_count": 13,
      "outputs": [
        {
          "output_type": "stream",
          "name": "stdout",
          "text": [
            "  animal  age  visits priority\n",
            "a    cat  2.5       1      yes\n",
            "f    cat  2.0       3       no\n"
          ]
        }
      ]
    },
    {
      "cell_type": "markdown",
      "source": [
        "**9.** Select the rows where the age is between 2 and 4 (inclusive)"
      ],
      "metadata": {
        "id": "GNVRLd9MVPR2"
      }
    },
    {
      "cell_type": "code",
      "source": [
        "\n",
        "age_between_2_and_4 = df[(df['age'] >= 2) & (df['age'] <= 4)]\n",
        "print(age_between_2_and_4)"
      ],
      "metadata": {
        "colab": {
          "base_uri": "https://localhost:8080/"
        },
        "id": "M2WjSiSKVQdq",
        "outputId": "bbd6f9a3-73be-41ca-f7b2-a7c36fcdc399"
      },
      "execution_count": 14,
      "outputs": [
        {
          "output_type": "stream",
          "name": "stdout",
          "text": [
            "  animal  age  visits priority\n",
            "a    cat  2.5       1      yes\n",
            "b    cat  3.0       3      yes\n",
            "f    cat  2.0       3       no\n",
            "j    dog  3.0       1       no\n"
          ]
        }
      ]
    },
    {
      "cell_type": "markdown",
      "source": [
        "**10.** Change the age in row 'f' to 1.5."
      ],
      "metadata": {
        "id": "vTdCHkjvVecj"
      }
    },
    {
      "cell_type": "code",
      "source": [
        "\n",
        "df.loc['f', 'age'] = 1.5\n",
        "print(df)"
      ],
      "metadata": {
        "colab": {
          "base_uri": "https://localhost:8080/"
        },
        "id": "JNINbG9oVm3n",
        "outputId": "5bfdebda-23fb-4d20-a6f7-47df292a4d05"
      },
      "execution_count": 15,
      "outputs": [
        {
          "output_type": "stream",
          "name": "stdout",
          "text": [
            "  animal  age  visits priority\n",
            "a    cat  2.5       1      yes\n",
            "b    cat  3.0       3      yes\n",
            "c  snake  0.5       2       no\n",
            "d    dog  NaN       3      yes\n",
            "e    dog  5.0       2       no\n",
            "f    cat  1.5       3       no\n",
            "g  snake  4.5       1       no\n",
            "h    cat  NaN       1      yes\n",
            "i    dog  7.0       2       no\n",
            "j    dog  3.0       1       no\n"
          ]
        }
      ]
    },
    {
      "cell_type": "markdown",
      "source": [
        "**11.** Calculate the sum of all visits in `df` (i.e. the total number of visits)."
      ],
      "metadata": {
        "id": "7NMBntBOV1IG"
      }
    },
    {
      "cell_type": "code",
      "source": [
        "\n",
        "total_visits = df['visits'].sum()\n",
        "print(\"Total number of visits:\", total_visits)"
      ],
      "metadata": {
        "colab": {
          "base_uri": "https://localhost:8080/"
        },
        "id": "oNvvjgTqV2nT",
        "outputId": "94b997d3-0479-4d28-a266-fcb1f05c0241"
      },
      "execution_count": 16,
      "outputs": [
        {
          "output_type": "stream",
          "name": "stdout",
          "text": [
            "Total number of visits: 19\n"
          ]
        }
      ]
    },
    {
      "cell_type": "markdown",
      "source": [
        "**12.** Calculate the mean age for each different animal in `df`."
      ],
      "metadata": {
        "id": "w6VbA2F3WFrH"
      }
    },
    {
      "cell_type": "code",
      "source": [
        "\n",
        "mean_age_per_animal = df.groupby('animal')['age'].mean()\n",
        "print(mean_age_per_animal)"
      ],
      "metadata": {
        "colab": {
          "base_uri": "https://localhost:8080/"
        },
        "id": "3ZTP5P8rV-bC",
        "outputId": "69016702-527b-4f5c-dcf6-5b72c6917ea3"
      },
      "execution_count": 17,
      "outputs": [
        {
          "output_type": "stream",
          "name": "stdout",
          "text": [
            "animal\n",
            "cat      2.333333\n",
            "dog      5.000000\n",
            "snake    2.500000\n",
            "Name: age, dtype: float64\n"
          ]
        }
      ]
    },
    {
      "cell_type": "markdown",
      "source": [
        "**13.** Append a new row 'k' to `df` with your choice of values for each column. Then delete that row to return the original DataFrame."
      ],
      "metadata": {
        "id": "4Jioe86KWcNA"
      }
    },
    {
      "cell_type": "code",
      "source": [
        "\n",
        "df.loc['k'] = ['rabbit', 2.0, 4, 'yes']\n",
        "\n",
        "print(\"DataFrame after appending row 'k':\")\n",
        "print(df)\n",
        "df = df.drop('k')\n",
        "print(\"\\nDataFrame after deleting row 'k':\")\n",
        "print(df)"
      ],
      "metadata": {
        "colab": {
          "base_uri": "https://localhost:8080/"
        },
        "id": "dBW0_CTlWdRJ",
        "outputId": "87599c99-f712-4eb3-d490-a50363245ae8"
      },
      "execution_count": 18,
      "outputs": [
        {
          "output_type": "stream",
          "name": "stdout",
          "text": [
            "DataFrame after appending row 'k':\n",
            "   animal  age  visits priority\n",
            "a     cat  2.5       1      yes\n",
            "b     cat  3.0       3      yes\n",
            "c   snake  0.5       2       no\n",
            "d     dog  NaN       3      yes\n",
            "e     dog  5.0       2       no\n",
            "f     cat  1.5       3       no\n",
            "g   snake  4.5       1       no\n",
            "h     cat  NaN       1      yes\n",
            "i     dog  7.0       2       no\n",
            "j     dog  3.0       1       no\n",
            "k  rabbit  2.0       4      yes\n",
            "\n",
            "DataFrame after deleting row 'k':\n",
            "  animal  age  visits priority\n",
            "a    cat  2.5       1      yes\n",
            "b    cat  3.0       3      yes\n",
            "c  snake  0.5       2       no\n",
            "d    dog  NaN       3      yes\n",
            "e    dog  5.0       2       no\n",
            "f    cat  1.5       3       no\n",
            "g  snake  4.5       1       no\n",
            "h    cat  NaN       1      yes\n",
            "i    dog  7.0       2       no\n",
            "j    dog  3.0       1       no\n"
          ]
        }
      ]
    },
    {
      "cell_type": "markdown",
      "source": [
        "**14.** Count the number of each type of animal in `df`."
      ],
      "metadata": {
        "id": "aMVVb0JEWeWD"
      }
    },
    {
      "cell_type": "code",
      "source": [
        "\n",
        "animal_counts = df['animal'].value_counts()\n",
        "print(animal_counts)"
      ],
      "metadata": {
        "colab": {
          "base_uri": "https://localhost:8080/"
        },
        "id": "hM01q2KNWe3I",
        "outputId": "7175443f-dcf7-45d4-8f63-79c0639d63ac"
      },
      "execution_count": 19,
      "outputs": [
        {
          "output_type": "stream",
          "name": "stdout",
          "text": [
            "animal\n",
            "cat      4\n",
            "dog      4\n",
            "snake    2\n",
            "Name: count, dtype: int64\n"
          ]
        }
      ]
    },
    {
      "cell_type": "markdown",
      "source": [
        "**15.** Sort `df` first by the values in the 'age' in *decending* order, then by the value in the 'visits' column in *ascending* order (so row `i` should be first, and row `d` should be last)."
      ],
      "metadata": {
        "id": "a9JXOs5HWfRB"
      }
    },
    {
      "cell_type": "code",
      "source": [
        "\n",
        "sorted_df = df.sort_values(by=['age', 'visits'], ascending=[False, True])\n",
        "print(sorted_df)"
      ],
      "metadata": {
        "colab": {
          "base_uri": "https://localhost:8080/"
        },
        "id": "fdqJlm8CWfsD",
        "outputId": "1c607160-a2b4-4ac5-c3f2-854874976fa9"
      },
      "execution_count": 20,
      "outputs": [
        {
          "output_type": "stream",
          "name": "stdout",
          "text": [
            "  animal  age  visits priority\n",
            "i    dog  7.0       2       no\n",
            "e    dog  5.0       2       no\n",
            "g  snake  4.5       1       no\n",
            "j    dog  3.0       1       no\n",
            "b    cat  3.0       3      yes\n",
            "a    cat  2.5       1      yes\n",
            "f    cat  1.5       3       no\n",
            "c  snake  0.5       2       no\n",
            "h    cat  NaN       1      yes\n",
            "d    dog  NaN       3      yes\n"
          ]
        }
      ]
    },
    {
      "cell_type": "markdown",
      "source": [
        "**16.** The 'priority' column contains the values 'yes' and 'no'. Replace this column with a column of boolean values: 'yes' should be `True` and 'no' should be `False`."
      ],
      "metadata": {
        "id": "IAbKjhhcW653"
      }
    },
    {
      "cell_type": "code",
      "source": [
        "\n",
        "df['priority'] = df['priority'].replace({'yes': True, 'no': False})\n",
        "print(df)"
      ],
      "metadata": {
        "colab": {
          "base_uri": "https://localhost:8080/"
        },
        "id": "7mO9_T_GW7We",
        "outputId": "3aaf2459-be13-434f-be7d-8b92f1616f44"
      },
      "execution_count": 21,
      "outputs": [
        {
          "output_type": "stream",
          "name": "stdout",
          "text": [
            "  animal  age  visits  priority\n",
            "a    cat  2.5       1      True\n",
            "b    cat  3.0       3      True\n",
            "c  snake  0.5       2     False\n",
            "d    dog  NaN       3      True\n",
            "e    dog  5.0       2     False\n",
            "f    cat  1.5       3     False\n",
            "g  snake  4.5       1     False\n",
            "h    cat  NaN       1      True\n",
            "i    dog  7.0       2     False\n",
            "j    dog  3.0       1     False\n"
          ]
        },
        {
          "output_type": "stream",
          "name": "stderr",
          "text": [
            "<ipython-input-21-5eb06626260b>:1: FutureWarning: Downcasting behavior in `replace` is deprecated and will be removed in a future version. To retain the old behavior, explicitly call `result.infer_objects(copy=False)`. To opt-in to the future behavior, set `pd.set_option('future.no_silent_downcasting', True)`\n",
            "  df['priority'] = df['priority'].replace({'yes': True, 'no': False})\n"
          ]
        }
      ]
    },
    {
      "cell_type": "markdown",
      "source": [
        "**17.** In the 'animal' column, change the 'snake' entries to 'python'."
      ],
      "metadata": {
        "id": "mm49svyLW7tl"
      }
    },
    {
      "cell_type": "code",
      "source": [
        "\n",
        "df['animal'] = df['animal'].replace('snake', 'python')\n",
        "print(df)"
      ],
      "metadata": {
        "colab": {
          "base_uri": "https://localhost:8080/"
        },
        "id": "YRWcBvoFW8MW",
        "outputId": "45c31696-b9da-4ead-8efa-2dac5546e3fa"
      },
      "execution_count": 22,
      "outputs": [
        {
          "output_type": "stream",
          "name": "stdout",
          "text": [
            "   animal  age  visits  priority\n",
            "a     cat  2.5       1      True\n",
            "b     cat  3.0       3      True\n",
            "c  python  0.5       2     False\n",
            "d     dog  NaN       3      True\n",
            "e     dog  5.0       2     False\n",
            "f     cat  1.5       3     False\n",
            "g  python  4.5       1     False\n",
            "h     cat  NaN       1      True\n",
            "i     dog  7.0       2     False\n",
            "j     dog  3.0       1     False\n"
          ]
        }
      ]
    },
    {
      "cell_type": "markdown",
      "source": [
        "**18.** Load the ny-flights dataset to Python"
      ],
      "metadata": {
        "id": "qj4tUHDvXyOh"
      }
    },
    {
      "cell_type": "code",
      "source": [
        "import pandas as pd\n",
        "\n",
        "\n",
        "csv_file_path = \"/content/ny-flights.csv\"\n",
        "\n",
        "csv_data = pd.read_csv(csv_file_path)\n",
        "\n",
        "\n",
        "print(csv_data.head())\n"
      ],
      "metadata": {
        "colab": {
          "base_uri": "https://localhost:8080/"
        },
        "id": "tAmqsmfIXytk",
        "outputId": "82899286-cdb9-4369-e89a-bfd23b7b01b8"
      },
      "execution_count": 23,
      "outputs": [
        {
          "output_type": "stream",
          "name": "stdout",
          "text": [
            "               fl_date unique_carrier  airline_id tail_num  fl_num origin  \\\n",
            "0  2014-01-01 00:00:00             AA       19805   N338AA       1    JFK   \n",
            "1  2014-01-01 00:00:00             AA       19805   N335AA       3    JFK   \n",
            "2  2014-01-01 00:00:00             AA       19805   N327AA      21    JFK   \n",
            "3  2014-01-01 00:00:00             AA       19805   N3EHAA      29    LGA   \n",
            "4  2014-01-01 00:00:00             AA       19805   N319AA     117    JFK   \n",
            "\n",
            "  dest  dep_time  dep_delay  arr_time  arr_delay  cancelled  \\\n",
            "0  LAX     914.0       14.0    1238.0       13.0        0.0   \n",
            "1  LAX    1157.0       -3.0    1523.0       13.0        0.0   \n",
            "2  LAX    1902.0        2.0    2224.0        9.0        0.0   \n",
            "3  PBI     722.0       -8.0    1014.0      -26.0        0.0   \n",
            "4  LAX    1347.0        2.0    1706.0        1.0        0.0   \n",
            "\n",
            "                   arr                  dep  \n",
            "0  2014-01-01 12:38:00  2014-01-01 09:14:00  \n",
            "1  2014-01-01 15:23:00  2014-01-01 11:57:00  \n",
            "2  2014-01-01 22:24:00  2014-01-01 19:02:00  \n",
            "3  2014-01-01 10:14:00  2014-01-01 07:22:00  \n",
            "4  2014-01-01 17:06:00  2014-01-01 13:47:00  \n"
          ]
        }
      ]
    },
    {
      "cell_type": "markdown",
      "source": [
        "**19.** Which airline ID is present maximum times in the dataset"
      ],
      "metadata": {
        "id": "pTXczAiKXzfo"
      }
    },
    {
      "cell_type": "code",
      "source": [
        "import pandas as pd\n",
        "max_airline_id = airline_counts.idxmax()\n",
        "max_count = airline_counts.max()\n",
        "print(f\"The airline ID present maximum times is: '{max_airline_id}' with {max_count} occurrences.\")"
      ],
      "metadata": {
        "colab": {
          "base_uri": "https://localhost:8080/",
          "height": 193
        },
        "id": "NerozCIuZCaz",
        "outputId": "cff39fd6-c5b0-46ee-f940-630611eaeedb"
      },
      "execution_count": 25,
      "outputs": [
        {
          "output_type": "error",
          "ename": "NameError",
          "evalue": "name 'airline_counts' is not defined",
          "traceback": [
            "\u001b[0;31m---------------------------------------------------------------------------\u001b[0m",
            "\u001b[0;31mNameError\u001b[0m                                 Traceback (most recent call last)",
            "\u001b[0;32m<ipython-input-25-a80cfcaee837>\u001b[0m in \u001b[0;36m<cell line: 2>\u001b[0;34m()\u001b[0m\n\u001b[1;32m      1\u001b[0m \u001b[0;32mimport\u001b[0m \u001b[0mpandas\u001b[0m \u001b[0;32mas\u001b[0m \u001b[0mpd\u001b[0m\u001b[0;34m\u001b[0m\u001b[0;34m\u001b[0m\u001b[0m\n\u001b[0;32m----> 2\u001b[0;31m \u001b[0mmax_airline_id\u001b[0m \u001b[0;34m=\u001b[0m \u001b[0mairline_counts\u001b[0m\u001b[0;34m.\u001b[0m\u001b[0midxmax\u001b[0m\u001b[0;34m(\u001b[0m\u001b[0;34m)\u001b[0m\u001b[0;34m\u001b[0m\u001b[0;34m\u001b[0m\u001b[0m\n\u001b[0m\u001b[1;32m      3\u001b[0m \u001b[0mmax_count\u001b[0m \u001b[0;34m=\u001b[0m \u001b[0mairline_counts\u001b[0m\u001b[0;34m.\u001b[0m\u001b[0mmax\u001b[0m\u001b[0;34m(\u001b[0m\u001b[0;34m)\u001b[0m\u001b[0;34m\u001b[0m\u001b[0;34m\u001b[0m\u001b[0m\n\u001b[1;32m      4\u001b[0m \u001b[0mprint\u001b[0m\u001b[0;34m(\u001b[0m\u001b[0;34mf\"The airline ID present maximum times is: '{max_airline_id}' with {max_count} occurrences.\"\u001b[0m\u001b[0;34m)\u001b[0m\u001b[0;34m\u001b[0m\u001b[0;34m\u001b[0m\u001b[0m\n",
            "\u001b[0;31mNameError\u001b[0m: name 'airline_counts' is not defined"
          ]
        }
      ]
    },
    {
      "cell_type": "markdown",
      "source": [
        "**20.** Draw a plot between dep_delay and arr_delay\n"
      ],
      "metadata": {
        "id": "nLUrMY5AZvwr"
      }
    },
    {
      "cell_type": "code",
      "source": [
        "from matplotlib import pyplot as pyplot\n",
        "from numpy import*\n",
        "from pandas import*\n",
        "import matplotlib as plt\n",
        "import seaborn as sns\n",
        "from seaborn import*\n",
        "plt.figure(figsize=(10, 6))"
      ],
      "metadata": {
        "colab": {
          "base_uri": "https://localhost:8080/",
          "height": 176
        },
        "id": "5ltj_qvNZVhH",
        "outputId": "9c7d30c2-c318-40c9-f6fc-e661cd0e2180"
      },
      "execution_count": 26,
      "outputs": [
        {
          "output_type": "error",
          "ename": "TypeError",
          "evalue": "'module' object is not callable",
          "traceback": [
            "\u001b[0;31m---------------------------------------------------------------------------\u001b[0m",
            "\u001b[0;31mTypeError\u001b[0m                                 Traceback (most recent call last)",
            "\u001b[0;32m<ipython-input-26-2c6529c2f4db>\u001b[0m in \u001b[0;36m<cell line: 5>\u001b[0;34m()\u001b[0m\n\u001b[1;32m      3\u001b[0m \u001b[0;32mfrom\u001b[0m \u001b[0mpandas\u001b[0m \u001b[0;32mimport\u001b[0m\u001b[0;34m*\u001b[0m\u001b[0;34m\u001b[0m\u001b[0;34m\u001b[0m\u001b[0m\n\u001b[1;32m      4\u001b[0m \u001b[0;32mimport\u001b[0m \u001b[0mmatplotlib\u001b[0m \u001b[0;32mas\u001b[0m \u001b[0mplt\u001b[0m\u001b[0;34m\u001b[0m\u001b[0;34m\u001b[0m\u001b[0m\n\u001b[0;32m----> 5\u001b[0;31m \u001b[0mplt\u001b[0m\u001b[0;34m.\u001b[0m\u001b[0mfigure\u001b[0m\u001b[0;34m(\u001b[0m\u001b[0mfigsize\u001b[0m\u001b[0;34m=\u001b[0m\u001b[0;34m(\u001b[0m\u001b[0;36m10\u001b[0m\u001b[0;34m,\u001b[0m \u001b[0;36m6\u001b[0m\u001b[0;34m)\u001b[0m\u001b[0;34m)\u001b[0m\u001b[0;34m\u001b[0m\u001b[0;34m\u001b[0m\u001b[0m\n\u001b[0m",
            "\u001b[0;31mTypeError\u001b[0m: 'module' object is not callable"
          ]
        }
      ]
    },
    {
      "cell_type": "code",
      "source": [
        "import pandas as pd\n",
        "import seaborn as sns\n",
        "import matplotlib.pyplot as plt\n",
        "plt.figure(figsize=(10, 6))\n",
        "sns.scatterplot(data=csv_data, x='dep_delay', y='arr_delay', alpha=0.5)\n",
        "plt.title('Departed delay vs Arriaval  Delay')\n",
        "plt.xlabel('Departure Delay (minutes)')\n",
        "plt.ylabel('Arrival Delay (minutes)')\n",
        "plt.grid()\n",
        "plt.show()"
      ],
      "metadata": {
        "colab": {
          "base_uri": "https://localhost:8080/",
          "height": 564
        },
        "id": "FKlTzYJ1a1ZW",
        "outputId": "6f569ebd-3647-4207-df2c-cf721a3e2a1d"
      },
      "execution_count": 27,
      "outputs": [
        {
          "output_type": "display_data",
          "data": {
            "text/plain": [
              "<Figure size 1000x600 with 1 Axes>"
            ],
            "image/png": "[encoded data removed]"
          },
          "metadata": {}
        }
      ]
    }
  ]
}